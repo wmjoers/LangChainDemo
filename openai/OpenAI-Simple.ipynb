{
 "cells": [
  {
   "cell_type": "markdown",
   "metadata": {},
   "source": [
    "# OpenAI - Enkla anrop"
   ]
  },
  {
   "cell_type": "markdown",
   "metadata": {},
   "source": [
    "Installera beroenden."
   ]
  },
  {
   "cell_type": "code",
   "execution_count": null,
   "metadata": {
    "vscode": {
     "languageId": "shellscript"
    }
   },
   "outputs": [],
   "source": [
    "%pip install langchain langchain-openai python-dotenv"
   ]
  },
  {
   "cell_type": "markdown",
   "metadata": {},
   "source": [
    "Ladda in 'OPENAI_API_KEY' från .env-filen. När api-nyckeln är satt i environment så kommer OpenAPI-implementationen använda den."
   ]
  },
  {
   "cell_type": "code",
   "execution_count": null,
   "metadata": {},
   "outputs": [],
   "source": [
    "from dotenv import load_dotenv\n",
    "\n",
    "load_dotenv()"
   ]
  },
  {
   "cell_type": "markdown",
   "metadata": {},
   "source": [
    "Använd OpenAI för att skicka ett enkelt anrop till gpt."
   ]
  },
  {
   "cell_type": "code",
   "execution_count": null,
   "metadata": {},
   "outputs": [],
   "source": [
    "from langchain_openai import OpenAI\n",
    "\n",
    "llm = OpenAI()\n",
    "\n",
    "prompt = 'What is the capital of Sweden?'\n",
    "print(llm.invoke(prompt))"
   ]
  },
  {
   "cell_type": "markdown",
   "metadata": {},
   "source": [
    "Använd ChatOpenAI för att skapa en stateful-chat mot GPT."
   ]
  },
  {
   "cell_type": "code",
   "execution_count": null,
   "metadata": {},
   "outputs": [],
   "source": [
    "from langchain_openai import ChatOpenAI\n",
    "from langchain.schema import HumanMessage\n",
    "\n",
    "chat_model = ChatOpenAI()\n",
    "\n",
    "prompt = 'What would be a good name for a new national park in northern sweden?'\n",
    "messages = [HumanMessage(content=prompt)]\n",
    "response = chat_model.invoke(messages)\n",
    "print(response.content)"
   ]
  },
  {
   "cell_type": "markdown",
   "metadata": {},
   "source": [
    "När man använder en chat-modell så kan konversationen fortätta baserat på tidigare meddelanden."
   ]
  },
  {
   "cell_type": "code",
   "execution_count": null,
   "metadata": {},
   "outputs": [],
   "source": [
    "from langchain_openai import ChatOpenAI\n",
    "from langchain.schema import HumanMessage\n",
    "\n",
    "chat_model = ChatOpenAI()\n",
    "messages = []\n",
    "\n",
    "prompt = 'Can you sugest five names for a black cat?'\n",
    "messages.append(HumanMessage(content=prompt))\n",
    "response = chat_model.invoke(messages)\n",
    "print(response.content)\n",
    "messages.append(response)\n",
    "\n",
    "print('---')\n",
    "\n",
    "prompt = 'Could you provide 3 more names?'\n",
    "messages.append(HumanMessage(content=prompt))\n",
    "response = chat_model.invoke(messages)\n",
    "print(response.content)\n"
   ]
  },
  {
   "cell_type": "markdown",
   "metadata": {},
   "source": [
    "Man kan lägga till ett SystemMessage i historiken för att ge GPT instruktioner."
   ]
  },
  {
   "cell_type": "code",
   "execution_count": null,
   "metadata": {},
   "outputs": [],
   "source": [
    "from langchain_openai import ChatOpenAI\n",
    "from langchain.schema import HumanMessage, SystemMessage\n",
    "\n",
    "chat_model = ChatOpenAI()\n",
    "messages = []\n",
    "\n",
    "instructions = 'Answer in swedish.'\n",
    "messages.append(SystemMessage(content=instructions))\n",
    "\n",
    "prompt = 'What would be a good name and a slogan for new electric car brand?'\n",
    "messages.append(HumanMessage(content=prompt))\n",
    "response = chat_model.invoke(messages)\n",
    "print(response.content)"
   ]
  }
 ],
 "metadata": {
  "kernelspec": {
   "display_name": "Python 3",
   "language": "python",
   "name": "python3"
  },
  "language_info": {
   "codemirror_mode": {
    "name": "ipython",
    "version": 3
   },
   "file_extension": ".py",
   "mimetype": "text/x-python",
   "name": "python",
   "nbconvert_exporter": "python",
   "pygments_lexer": "ipython3",
   "version": "3.11.7"
  }
 },
 "nbformat": 4,
 "nbformat_minor": 2
}
