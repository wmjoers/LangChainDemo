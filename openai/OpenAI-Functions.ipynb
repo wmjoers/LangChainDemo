{
 "cells": [
  {
   "cell_type": "markdown",
   "metadata": {},
   "source": [
    "# OpenAI - Funktioner"
   ]
  },
  {
   "cell_type": "markdown",
   "metadata": {},
   "source": [
    "Installera beroenden."
   ]
  },
  {
   "cell_type": "code",
   "execution_count": null,
   "metadata": {
    "vscode": {
     "languageId": "shellscript"
    }
   },
   "outputs": [],
   "source": [
    "%pip install langchain langchain-openai python-dotenv"
   ]
  },
  {
   "cell_type": "markdown",
   "metadata": {},
   "source": [
    "Ladda in 'OPENAI_API_KEY' från .env-filen. När api-nyckeln är satt i environment så kommer OpenAPI-implementationen använda den."
   ]
  },
  {
   "cell_type": "code",
   "execution_count": null,
   "metadata": {},
   "outputs": [],
   "source": [
    "from dotenv import load_dotenv\n",
    "\n",
    "load_dotenv()"
   ]
  },
  {
   "cell_type": "markdown",
   "metadata": {},
   "source": [
    "Specificera ett JSON-formulär för svaret."
   ]
  },
  {
   "cell_type": "code",
   "execution_count": null,
   "metadata": {},
   "outputs": [],
   "source": [
    "from langchain_openai import ChatOpenAI\n",
    "from langchain.output_parsers.openai_functions import JsonOutputFunctionsParser\n",
    "from langchain.schema import HumanMessage\n",
    "\n",
    "extractionFunctionSchema = {\n",
    "    'name': 'extractor',\n",
    "    'description': 'Extracts fields from the input.',\n",
    "    'parameters': {\n",
    "        'type': 'object',\n",
    "        'properties': {\n",
    "        'tone': {\n",
    "            'type': 'string',\n",
    "            'enum': ['positive', 'negative', 'neutral'],\n",
    "            'description': 'The overall tone of the input',\n",
    "        },\n",
    "        'word_count': {\n",
    "            'type': 'number',\n",
    "            'description': 'The number of words in the input',\n",
    "        },\n",
    "        'chat_response': {\n",
    "            'type': 'string',\n",
    "            'description': \"A response to the human's input\",\n",
    "        },\n",
    "    },\n",
    "    'required': ['tone', 'word_count', 'chat_response']\n",
    "  }\n",
    "}\n",
    "\n",
    "chat_model = ChatOpenAI(model='gpt-4').bind(\n",
    "    function_call={\"name\": \"extractor\"}, \n",
    "    functions=[extractionFunctionSchema]\n",
    ")\n",
    "parser = JsonOutputFunctionsParser()\n",
    "\n",
    "messages = [HumanMessage(content=\"What a lovley day!\")]\n",
    "\n",
    "chain = (\n",
    "    chat_model\n",
    "    | parser\n",
    ")\n",
    "\n",
    "response = chain.invoke(messages)\n",
    "print(response)"
   ]
  }
 ],
 "metadata": {
  "kernelspec": {
   "display_name": "Python 3",
   "language": "python",
   "name": "python3"
  },
  "language_info": {
   "codemirror_mode": {
    "name": "ipython",
    "version": 3
   },
   "file_extension": ".py",
   "mimetype": "text/x-python",
   "name": "python",
   "nbconvert_exporter": "python",
   "pygments_lexer": "ipython3",
   "version": "3.1.undefined"
  }
 },
 "nbformat": 4,
 "nbformat_minor": 2
}
