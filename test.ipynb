{
 "cells": [
  {
   "cell_type": "code",
   "execution_count": 1,
   "metadata": {},
   "outputs": [
    {
     "name": "stdout",
     "output_type": "stream",
     "text": [
      "{\n",
      "  \"title\": \"Mountain\",\n",
      "  \"description\": \"Identifying information about a mountain.\",\n",
      "  \"type\": \"object\",\n",
      "  \"properties\": {\n",
      "    \"name\": {\n",
      "      \"title\": \"Name\",\n",
      "      \"description\": \"The name of the mountain\",\n",
      "      \"type\": \"string\"\n",
      "    },\n",
      "    \"hight\": {\n",
      "      \"title\": \"Hight\",\n",
      "      \"description\": \"The height of the mountain in meters\",\n",
      "      \"type\": \"integer\"\n",
      "    },\n",
      "    \"country\": {\n",
      "      \"title\": \"Country\",\n",
      "      \"description\": \"The country where the mountain is\",\n",
      "      \"type\": \"string\"\n",
      "    }\n",
      "  },\n",
      "  \"required\": [\n",
      "    \"name\",\n",
      "    \"height\"\n",
      "  ]\n",
      "}\n"
     ]
    }
   ],
   "source": [
    "import json\n",
    "\n",
    "\n",
    "json_schema = {\n",
    "    \"title\": \"Mountain\",\n",
    "    \"description\": \"Identifying information about a mountain.\",\n",
    "    \"properties\": {\n",
    "        \"name\": {\"title\": \"Name\", \"description\": \"The name of the mountain\"},\n",
    "        \"hight\": {\"title\": \"Hight\", \"description\": \"The height of the mountain in meters\"}\n",
    "    }\n",
    "}\n",
    "\n",
    "print(json.dumps(json_schema, indent=2))"
   ]
  }
 ],
 "metadata": {
  "kernelspec": {
   "display_name": "Python 3",
   "language": "python",
   "name": "python3"
  },
  "language_info": {
   "codemirror_mode": {
    "name": "ipython",
    "version": 3
   },
   "file_extension": ".py",
   "mimetype": "text/x-python",
   "name": "python",
   "nbconvert_exporter": "python",
   "pygments_lexer": "ipython3",
   "version": "3.11.7"
  }
 },
 "nbformat": 4,
 "nbformat_minor": 2
}
