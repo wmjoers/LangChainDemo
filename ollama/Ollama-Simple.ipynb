{
 "cells": [
  {
   "cell_type": "markdown",
   "metadata": {},
   "source": [
    "# Ollama - Enkla anrop"
   ]
  },
  {
   "cell_type": "markdown",
   "metadata": {},
   "source": [
    "Installera beroenden."
   ]
  },
  {
   "cell_type": "code",
   "execution_count": null,
   "metadata": {
    "vscode": {
     "languageId": "shellscript"
    }
   },
   "outputs": [],
   "source": [
    "%pip install langchain langchain-community"
   ]
  },
  {
   "cell_type": "markdown",
   "metadata": {},
   "source": [
    "Använd Ollama för att skicka ett enkelt anrop till llama2."
   ]
  },
  {
   "cell_type": "code",
   "execution_count": null,
   "metadata": {},
   "outputs": [],
   "source": [
    "from langchain_community.llms import Ollama\n",
    "\n",
    "llm = Ollama(\n",
    "    base_url='http://localhost:11434',\n",
    "    model='llama2'\n",
    ")\n",
    "\n",
    "prompt = 'What is the capital of Sweden?'\n",
    "print(llm.invoke(prompt))"
   ]
  },
  {
   "cell_type": "markdown",
   "metadata": {},
   "source": [
    "Använd ChatOllama för att skapa en stateful-chat mot llama2."
   ]
  },
  {
   "cell_type": "code",
   "execution_count": null,
   "metadata": {},
   "outputs": [],
   "source": [
    "from langchain_community.chat_models import ChatOllama\n",
    "from langchain.schema import HumanMessage\n",
    "\n",
    "chat_model = ChatOllama(model='llama2')\n",
    "\n",
    "prompt = 'What would be a good name for a new national park in northern sweden?'\n",
    "messages = [HumanMessage(content=prompt)]\n",
    "response = chat_model.invoke(messages)\n",
    "print(response.content)"
   ]
  },
  {
   "cell_type": "markdown",
   "metadata": {},
   "source": [
    "När man använder en chat-modell så kan konversationen fortätta baserat på tidigare meddelanden."
   ]
  },
  {
   "cell_type": "code",
   "execution_count": null,
   "metadata": {},
   "outputs": [],
   "source": [
    "from langchain_community.chat_models import ChatOllama\n",
    "from langchain.schema import HumanMessage\n",
    "\n",
    "chat_model = chat_model = ChatOllama(model='llama2')\n",
    "messages = []\n",
    "\n",
    "prompt = 'Can you sugest five names for a black cat?'\n",
    "messages.append(HumanMessage(content=prompt))\n",
    "response = chat_model.invoke(messages)\n",
    "print(response.content)\n",
    "print('---')\n",
    "\n",
    "messages.append(response)\n",
    "\n",
    "prompt = 'Could you provide 3 more names?'\n",
    "messages.append(HumanMessage(content=prompt))\n",
    "response = chat_model.invoke(messages)\n",
    "print(response.content)\n",
    "print('---')"
   ]
  },
  {
   "cell_type": "markdown",
   "metadata": {},
   "source": [
    "Man kan lägga till ett SystemMessage i historiken för att ge GPT instruktioner."
   ]
  },
  {
   "cell_type": "code",
   "execution_count": null,
   "metadata": {},
   "outputs": [],
   "source": [
    "from langchain_community.chat_models import ChatOllama\n",
    "from langchain.schema import HumanMessage, SystemMessage\n",
    "\n",
    "chat_model = chat_model = ChatOllama(model='llama2')\n",
    "messages = []\n",
    "\n",
    "instructions = 'Answer in swedish.'\n",
    "messages.append(SystemMessage(content=instructions))\n",
    "\n",
    "prompt = 'What would be a good name and a slogan for new electric car brand?'\n",
    "messages.append(HumanMessage(content=prompt))\n",
    "response = chat_model.invoke(messages)\n",
    "print(response.content)"
   ]
  }
 ],
 "metadata": {
  "kernelspec": {
   "display_name": "Python 3",
   "language": "python",
   "name": "python3"
  },
  "language_info": {
   "codemirror_mode": {
    "name": "ipython",
    "version": 3
   },
   "file_extension": ".py",
   "mimetype": "text/x-python",
   "name": "python",
   "nbconvert_exporter": "python",
   "pygments_lexer": "ipython3",
   "version": "3.11.7"
  }
 },
 "nbformat": 4,
 "nbformat_minor": 2
}
